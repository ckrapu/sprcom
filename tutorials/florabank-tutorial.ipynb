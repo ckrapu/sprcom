{
 "cells": [
  {
   "cell_type": "markdown",
   "metadata": {},
   "source": [
    "# Introduction"
   ]
  },
  {
   "cell_type": "markdown",
   "metadata": {},
   "source": [
    "This notebook is intended to familiarize users of the `sprcom` package with building, fitting and interpreting a spatial community regression model. This is a Bayesian model is designed to conduct regression of high-dimensional binary or count vectors by grouping these responses into communities or clusters, incorporating spatially-smoothed residuals at the community-level to facilitate the identification of missing covariates that should be included in the model. We will first walk through the types of data used in this modeling workflow. Next, we will build a model using this data and run Markov chain Monte Carlo to estimate its parameters. Finally, we will show how to interpret these parameter estimates. "
   ]
  },
  {
   "cell_type": "markdown",
   "metadata": {},
   "source": [
    "## Data"
   ]
  },
  {
   "cell_type": "code",
   "execution_count": null,
   "metadata": {
    "collapsed": true
   },
   "outputs": [],
   "source": []
  }
 ],
 "metadata": {
  "kernelspec": {
   "display_name": "pymc3",
   "language": "python",
   "name": "pymc3"
  },
  "language_info": {
   "codemirror_mode": {
    "name": "ipython",
    "version": 3
   },
   "file_extension": ".py",
   "mimetype": "text/x-python",
   "name": "python",
   "nbconvert_exporter": "python",
   "pygments_lexer": "ipython3",
   "version": "3.6.9"
  }
 },
 "nbformat": 4,
 "nbformat_minor": 2
}
